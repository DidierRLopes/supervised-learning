{
 "cells": [
  {
   "cell_type": "markdown",
   "id": "b52b1d3a-4ded-43a1-a5a6-ecb90122dd00",
   "metadata": {},
   "source": [
    "<details>\n",
    "  <summary>Supervised Learning Steps</summary>\n",
    "    \n",
    "1. Data Collection\n",
    "   * 1.1\\. Data Sources\n",
    "   * 1.2\\. Data Collection Considerations\n",
    "2. Data Exploration and Preparation\n",
    "   * 2.1\\. Data Exploration\n",
    "   * 2.2\\. Data Preparation/Cleaning\n",
    "3. Split Data into Training and Test Sets\n",
    "   * 3.1\\. Holdout Method\n",
    "   * 3.2\\. Cross Validation\n",
    "   * 3.3\\. Data Leakage\n",
    "   * 3.4\\. Best Practices\n",
    "4. Choose a Supervised Learning Algorithm\n",
    "   * 4.1\\. Consider algorithm categories\n",
    "   * 4.2\\. Evaluate algorithm characteristics\n",
    "   * 4.3\\. Try multiple algorithms\n",
    "5. Train the Model\n",
    "   * 5.1\\. Objective Function (Loss/Cost Function)\n",
    "   * 5.2\\. Optimization Algorithms\n",
    "   * 5.3\\. Overfitting and Underfitting\n",
    "6. Evaluate Model Performance\n",
    "   * 6.1\\. Performance Metrics for Regression Models\n",
    "   * 6.2\\. Performance Metrics for Classification Models\n",
    "7. Model Tuning and Selection\n",
    "   * 7.1\\. Hyperparameter Tuning\n",
    "   * 7.2\\. Ensemble Methods\n",
    "</details>"
   ]
  },
  {
   "attachments": {},
   "cell_type": "markdown",
   "id": "40efd49a-7cf0-4cc2-b87a-1834ae7db8a2",
   "metadata": {},
   "source": [
    "# 2. Data Exploration and Preparation\n",
    "\n",
    "Perform exploratory data analysis (EDA) to gain insights into the dataset, including calculating summary statistics, visualizing data, identifying missing values and outliers. Then, prepare the data by handling missing values, removing outliers, encoding categorical variables, and scaling/normalizing numerical features.\n",
    "\n",
    "![image](https://media.licdn.com/dms/image/C5622AQFll1e0ICstGA/feedshare-shrink_800/0/1659121272562?e=1718236800&v=beta&t=Jg6BW9tg7BLNou4RkfcSvPMRm5ITf7j66s2ol502ccU)\n",
    "\n",
    "A common saying in the industry: _\"Garbage in, garbage out\"_."
   ]
  },
  {
   "cell_type": "markdown",
   "id": "0424f563-7158-4c24-838f-7ae4cbf8c3de",
   "metadata": {},
   "source": [
    "## 2.1 Data Exploration\n",
    "\n",
    "- **Understand the context and domain**: Gather information about the context and domain from which the data was collected. This can provide valuable insights into the meaning and relevance of the features, as well as potential data quality issues or biases.\n",
    "\n",
    "- **Check for data quality issues**: In addition to identifying missing values and outliers, look for other data quality issues such as duplicates, inconsistent formatting, or invalid values.\n",
    "\n",
    "- **Explore feature distributions**: Visualize the distributions of individual features using histograms, box plots, or violin plots. This can help identify skewed distributions, multimodality, or other patterns that may require specific data transformations.\n",
    "\n",
    "- **Analyze feature correlations**: Calculate and visualize the correlations between features, either using scatter plot matrices or correlation matrices. This can help identify redundant features or potential multicollinearity issues.\n",
    "\n",
    "- **Investigate feature-target relationships**: For supervised learning problems, explore the relationships between the features and the target variable. This can be done using scatter plots, box plots, or other visualization techniques, depending on the data types.\n",
    "\n",
    "- **Identify potential interactions**: Look for potential interactions between features, as these may reveal important patterns or relationships that could improve model performance."
   ]
  },
  {
   "cell_type": "markdown",
   "id": "bcb7b359-2dbb-4eff-95d2-a75d396b1755",
   "metadata": {},
   "source": [
    "-----\n",
    "\n",
    "## 2.2 Data Preparation/Cleaning\n",
    "\n",
    "- **Handle categorical data**: In addition to encoding categorical variables, consider techniques like label encoding (e.g. 0-small, 1-medium, 2-tall), one-hot encoding (e.g. is_tall or is_small), or target encoding, depending on the nature of the categorical features and the machine learning algorithm being used.\n",
    "\n",
    "- **Address imbalanced data**: If the target variable is imbalanced (one class is significantly more prevalent than others), consider techniques like oversampling, undersampling, or using class weights to mitigate the impact of imbalanced data on model performance.\n",
    "\n",
    "- **Feature engineering**: Explore the creation of new features from existing ones, such as interactions, ratios, or derived features, which may capture important patterns or relationships in the data.\n",
    "\n",
    "- **Feature selection**: Identify and remove irrelevant or redundant features that may not contribute significantly to the model's performance. This can be done using techniques like correlation analysis, recursive feature elimination, or embedded feature selection methods.\n",
    "\n",
    "- **Data transformation**: Apply appropriate transformations to the data, such as log transformations, box-cox transformations, or other non-linear transformations, to address skewed distributions (e.g. individual income) or improve the linearity of relationships between features and the target variable.\n",
    "\n",
    "- **Handling date and time data**: If the dataset includes date or time features, consider extracting additional features like day of the week, month, or hour, which may capture important patterns or seasonality.\n",
    "\n",
    "- **Data integration and standardization**: If working with multiple data sources, consider techniques for integrating and merging the data, while handling issues like inconsistent formats, missing values, or duplicate records.\n",
    "\n",
    "- **Data versioning and reproducibility**: Maintain a clear record of the data transformations and preprocessing steps applied, using version control or data pipelines to ensure reproducibility and transparency in the modeling process."
   ]
  },
  {
   "cell_type": "code",
   "execution_count": null,
   "id": "d4f6f13b-0525-44b8-8341-cff6ffefb184",
   "metadata": {},
   "outputs": [],
   "source": []
  }
 ],
 "metadata": {
  "kernelspec": {
   "display_name": "Python 3 (ipykernel)",
   "language": "python",
   "name": "python3"
  },
  "language_info": {
   "codemirror_mode": {
    "name": "ipython",
    "version": 3
   },
   "file_extension": ".py",
   "mimetype": "text/x-python",
   "name": "python",
   "nbconvert_exporter": "python",
   "pygments_lexer": "ipython3",
   "version": "3.11.4"
  }
 },
 "nbformat": 4,
 "nbformat_minor": 5
}
