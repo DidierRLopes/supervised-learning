{
 "cells": [
  {
   "cell_type": "markdown",
   "id": "ac71c8a0-7c4e-4613-abfc-f752b89ce3f5",
   "metadata": {},
   "source": [
    "![Supervised learning banner](./images/0_supervised_learning_banner.png)"
   ]
  },
  {
   "cell_type": "markdown",
   "id": "df1340fc-1328-4d20-9ee0-7ec6abd11791",
   "metadata": {},
   "source": [
    "# 0. Supervised Learning\n",
    "\n",
    "A supervised learning algorithm takes a known set of (input) data and known responses (labels) to the data (output) and trains a model to generate reasonable predictions for the response to new data.\n",
    "\n",
    "Supervised learning uses classification and regression techniques to develop predictive models.\n",
    "\n",
    "![Supervised learning techniques](./images/0_supervised_learning_techniques.png)"
   ]
  },
  {
   "cell_type": "markdown",
   "id": "5762b965-2bc1-41e4-b0ae-6123f1b3d004",
   "metadata": {},
   "source": [
    "#### What is unsupervised learning?\n",
    "\n",
    "In unsupervised learning, the algorithm is given unlabeled data as a training set. Unlike supervised learning, there are no correct output values; the algorithm determines the patterns and similarities within the data, as opposed to relating it to some external measurement.\n",
    "\n",
    "Note that the main difference happens during the training stage - hence \"learning\".\n",
    "\n",
    "![Supervised Learning vs Unsupervised](./images/0_supervised_learning_vs_unsupervised.png)"
   ]
  },
  {
   "cell_type": "markdown",
   "id": "c2e99826-e956-46f2-8c6c-7d1b3fe2f5e0",
   "metadata": {},
   "source": [
    "## Regression vs Classification\n",
    "\n",
    "![Supervised Learning Classification vs Regression](./images/0_supervised_learning_classification_vs_regression.png)\n",
    "\n",
    "#### Regression models predict a continuous response. \n",
    "\n",
    "Typical applications include algorithmic trading, electricity load forecasting, fluctuations in power demand, sales forecasting.\n",
    "\n",
    "#### Classification models classify input data into categories.\n",
    "\n",
    "Typical applications include medical imaging, image and speech recognition, credit scoring and spam detection.\n",
    "\n",
    "Note: For reference, **unsupervised learning** finds hidden patterns or intrinsic structures in data. It is used to draw inferences from datasets consisting of input data without labeled responses. Typical applications include exploratory data analysis to find hidden patterns or groupings in data."
   ]
  },
  {
   "cell_type": "markdown",
   "id": "4f0722ff-520a-40bb-8de5-b51ae4d8d196",
   "metadata": {},
   "source": [
    "## Table of Contents\n",
    "\n",
    "1. Data Collection\n",
    "   * 1.1\\. Data Sources\n",
    "   * 1.2\\. Data Collection Considerations\n",
    "2. Data Exploration and Preparation\n",
    "   * 2.1\\. Data Exploration\n",
    "   * 2.2\\. Data Preparation/Cleaning\n",
    "3. Split Data into Training and Test Sets\n",
    "   * 3.1\\. Holdout Method\n",
    "   * 3.2\\. Cross Validation\n",
    "   * 3.3\\. Data Leakage\n",
    "   * 3.4\\. Best Practices\n",
    "4. Choose a Supervised Learning Algorithm\n",
    "   * 4.1\\. Consider algorithm categories\n",
    "   * 4.2\\. Evaluate algorithm characteristics\n",
    "   * 4.3\\. Try multiple algorithms\n",
    "5. Train the Model\n",
    "   * 5.1\\. Objective Function (Loss/Cost Function)\n",
    "   * 5.2\\. Optimization Algorithms\n",
    "   * 5.3\\. Overfitting and Underfitting\n",
    "6. Evaluate Model Performance\n",
    "   * 6.1\\. Performance Metrics for Regression Models\n",
    "   * 6.2\\. Performance Metrics for Classification Models\n",
    "7. Model Tuning and Selection\n",
    "   * 7.1\\. Hyperparameter Tuning\n",
    "   * 7.2\\. Ensemble Methods"
   ]
  },
  {
   "cell_type": "code",
   "execution_count": null,
   "id": "ade341fd-9e5f-40ba-a2a4-1d2c75c0f7cb",
   "metadata": {},
   "outputs": [],
   "source": []
  }
 ],
 "metadata": {
  "kernelspec": {
   "display_name": "Python 3 (ipykernel)",
   "language": "python",
   "name": "python3"
  },
  "language_info": {
   "codemirror_mode": {
    "name": "ipython",
    "version": 3
   },
   "file_extension": ".py",
   "mimetype": "text/x-python",
   "name": "python",
   "nbconvert_exporter": "python",
   "pygments_lexer": "ipython3",
   "version": "3.11.4"
  }
 },
 "nbformat": 4,
 "nbformat_minor": 5
}
