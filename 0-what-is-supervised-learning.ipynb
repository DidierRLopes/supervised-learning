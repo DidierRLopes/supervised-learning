{
 "cells": [
  {
   "cell_type": "markdown",
   "id": "ac71c8a0-7c4e-4613-abfc-f752b89ce3f5",
   "metadata": {},
   "source": [
    "# Supervised Learning\n",
    "\n",
    "![image.png](https://www.mathworks.com/help/stats/machinelearning_supervisedunsupervised.png)\n",
    "\n",
    "A supervised learning algorithm takes a known set of (input) data and known responses (labels) to the data (output) and trains a model to generate reasonable predictions for the response to new data.\n",
    "\n",
    "Supervised learning uses classification and regression techniques to develop predictive models.\n",
    "\n",
    "### What is unsupervised learning?\n",
    "\n",
    "In unsupervised learning, the algorithm is given unlabeled data as a training set. Unlike supervised learning, there are no correct output values; the algorithm determines the patterns and similarities within the data, as opposed to relating it to some external measurement.\n",
    "\n",
    "Note that the main difference happens during the training stage - hence \"learning\"."
   ]
  },
  {
   "attachments": {},
   "cell_type": "markdown",
   "id": "9a249f66-7d33-450b-acdd-a993fa53c504",
   "metadata": {},
   "source": [
    "![image](https://images.datacamp.com/image/upload/v1661171231/Supervised_vs_Unsupervised_aa9a08ac32.png)"
   ]
  },
  {
   "cell_type": "markdown",
   "id": "c2e99826-e956-46f2-8c6c-7d1b3fe2f5e0",
   "metadata": {},
   "source": [
    "## Regression vs Classification\n",
    "\n",
    "### Regression models predict a continuous response. \n",
    "\n",
    "Typical applications include algorithmic trading, electricity load forecasting, fluctuations in power demand, sales forecasting.\n",
    "\n",
    "#### Classification models classify input data into categories.\n",
    "\n",
    "Typical applications include medical imaging, image and speech recognition, credit scoring and spam detection.\n",
    "\n",
    "\n",
    "NOTE: For reference, unsupervised learning finds hidden patterns or intrinsic structures in data. It is used to draw inferences from datasets consisting of input data without labeled responses. Typical applications include exploratory data analysis to find hidden patterns or groupings in data.\n",
    "\n",
    "![image](https://images.datacamp.com/image/upload/v1661171231/Regression_77f74a45c6.png)"
   ]
  },
  {
   "cell_type": "markdown",
   "id": "1882d8fc-bec0-40a9-96bf-5aa556fcef76",
   "metadata": {},
   "source": [
    "## Supervised Learning Steps\n",
    "\n",
    "#### 1: Data Collection\n",
    "\n",
    "Gather labeled data consisting of input features (independent variables) and their corresponding target labels or output variables (dependent variables). This labeled data is essential for training supervised learning models.\n",
    "\n",
    "#### 2: Data Exploration and Preparation\n",
    "\n",
    "Perform exploratory data analysis (EDA) to gain insights into the dataset, including calculating summary statistics, visualizing data, identifying missing values and outliers. Then, prepare the data by handling missing values, removing outliers, encoding categorical variables, and scaling/normalizing numerical features.\n",
    "\n",
    "#### 3: Split Data into Training and Test Sets\n",
    "\n",
    "Divide the prepared data into training and test sets, where the training set is used to train the model, and the test set is used to evaluate its performance.\n",
    "\n",
    "#### 4: Choose a Supervised Learning Algorithm\n",
    "\n",
    "Select an appropriate supervised learning algorithm based on the problem type (classification or regression), data characteristics, interpretability requirements, training time, and other practical considerations.\n",
    "\n",
    "#### 5: Train the Model\n",
    "\n",
    "Use the training data to train the chosen supervised learning algorithm, which involves optimizing the model's parameters or weights to minimize the loss function.\n",
    "\n",
    "#### 6: Evaluate Model Performance\n",
    "\n",
    "Assess the trained model's performance on the test set using appropriate evaluation metrics, such as accuracy, precision, recall, F1-score for classification problems, or mean squared error for regression problems.\n",
    "\n",
    "#### 7: Model Tuning and Selection\n",
    "\n",
    "If the model's performance is not satisfactory, tune its hyperparameters or try different algorithms, and select the best-performing model based on evaluation metrics and practical considerations.\n",
    "\n"
   ]
  },
  {
   "cell_type": "markdown",
   "id": "4f0722ff-520a-40bb-8de5-b51ae4d8d196",
   "metadata": {},
   "source": [
    "## Table of Contents\n",
    "\n",
    "1. Data Collection\n",
    "   * 1.1\\. Data Sources\n",
    "   * 1.2\\. Data Collection Considerations\n",
    "2. Data Exploration and Preparation\n",
    "   * 2.1\\. Data Exploration\n",
    "   * 2.2\\. Data Preparation/Cleaning\n",
    "3. Split Data into Training and Test Sets\n",
    "   * 3.1\\. Holdout Method\n",
    "   * 3.2\\. Cross Validation\n",
    "   * 3.3\\. Data Leakage\n",
    "   * 3.4\\. Best Practices\n",
    "4. Choose a Supervised Learning Algorithm\n",
    "   * 4.1\\. Consider algorithm categories\n",
    "   * 4.2\\. Evaluate algorithm characteristics\n",
    "   * 4.3\\. Try multiple algorithms\n",
    "5. Train the Model\n",
    "   * 5.1\\. Objective Function (Loss/Cost Function)\n",
    "   * 5.2\\. Optimization Algorithms\n",
    "   * 5.3\\. Overfitting and Underfitting\n",
    "6. Evaluate Model Performance\n",
    "   * 6.1\\. Performance Metrics for Regression Models\n",
    "   * 6.2\\. Performance Metrics for Classification Models\n",
    "7. Model Tuning and Selection\n",
    "   * 7.1\\. Hyperparameter Tuning\n",
    "   * 7.2\\. Ensemble Methods"
   ]
  },
  {
   "cell_type": "code",
   "execution_count": null,
   "id": "a3fa67ef-5571-4a7f-a228-a6128ffcba08",
   "metadata": {},
   "outputs": [],
   "source": []
  }
 ],
 "metadata": {
  "kernelspec": {
   "display_name": "Python 3 (ipykernel)",
   "language": "python",
   "name": "python3"
  },
  "language_info": {
   "codemirror_mode": {
    "name": "ipython",
    "version": 3
   },
   "file_extension": ".py",
   "mimetype": "text/x-python",
   "name": "python",
   "nbconvert_exporter": "python",
   "pygments_lexer": "ipython3",
   "version": "3.11.4"
  }
 },
 "nbformat": 4,
 "nbformat_minor": 5
}
